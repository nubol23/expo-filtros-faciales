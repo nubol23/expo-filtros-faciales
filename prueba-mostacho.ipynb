{
 "cells": [
  {
   "cell_type": "code",
   "execution_count": null,
   "metadata": {
    "slideshow": {
     "slide_type": "slide"
    }
   },
   "outputs": [],
   "source": [
    "import dlib\n",
    "import cv2\n",
    "import imutils\n",
    "import math\n",
    "\n",
    "import matplotlib.pyplot as plt\n",
    "import numpy as np"
   ]
  },
  {
   "cell_type": "code",
   "execution_count": null,
   "metadata": {
    "cell_style": "split",
    "slideshow": {
     "slide_type": "fragment"
    }
   },
   "outputs": [],
   "source": [
    "plt.rcParams['figure.figsize'] = [20, 10]"
   ]
  },
  {
   "cell_type": "code",
   "execution_count": null,
   "metadata": {
    "cell_style": "split",
    "slideshow": {
     "slide_type": "fragment"
    }
   },
   "outputs": [],
   "source": [
    "predictor_path = 'shape_predictor_68_face_landmarks.dat'\n",
    "predictor = dlib.shape_predictor(predictor_path)\n",
    "\n",
    "face_detector = dlib.get_frontal_face_detector()"
   ]
  },
  {
   "cell_type": "code",
   "execution_count": null,
   "metadata": {
    "slideshow": {
     "slide_type": "fragment"
    }
   },
   "outputs": [],
   "source": [
    "img_path = 'imgs/messi_2.jpg'\n",
    "# img_path = 'imgs/messi_1.jpeg'"
   ]
  },
  {
   "cell_type": "code",
   "execution_count": null,
   "metadata": {
    "slideshow": {
     "slide_type": "slide"
    }
   },
   "outputs": [],
   "source": [
    "img: np.ndarray = dlib.load_rgb_image(img_path)"
   ]
  },
  {
   "cell_type": "code",
   "execution_count": null,
   "metadata": {
    "slideshow": {
     "slide_type": "slide"
    }
   },
   "outputs": [],
   "source": [
    "plt.imshow(img)\n",
    "plt.show()"
   ]
  },
  {
   "cell_type": "code",
   "execution_count": null,
   "metadata": {
    "slideshow": {
     "slide_type": "slide"
    }
   },
   "outputs": [],
   "source": [
    "face_detector = dlib.get_frontal_face_detector()"
   ]
  },
  {
   "cell_type": "code",
   "execution_count": null,
   "metadata": {
    "slideshow": {
     "slide_type": "slide"
    }
   },
   "outputs": [],
   "source": [
    "mostacho = cv2.imread('imgs/mostacho.png', cv2.IMREAD_UNCHANGED)"
   ]
  },
  {
   "cell_type": "code",
   "execution_count": null,
   "metadata": {
    "slideshow": {
     "slide_type": "slide"
    }
   },
   "outputs": [],
   "source": [
    "detections = face_detector(img)"
   ]
  },
  {
   "cell_type": "code",
   "execution_count": null,
   "metadata": {
    "slideshow": {
     "slide_type": "slide"
    }
   },
   "outputs": [],
   "source": [
    "# img_to_show = img.copy()\n",
    "\n",
    "size_offset = 50\n",
    "alpha_img = cv2.cvtColor(img, cv2.COLOR_RGB2RGBA)\n",
    "\n",
    "for detection in detections:\n",
    "    x1, y1, x2, y2 = detection.left(), detection.top(), detection.right(), detection.bottom()\n",
    "    \n",
    "#     cv2.rectangle(img_to_show, (x1, y1), (x2, y2), (0, 255, 0), 10)\n",
    "    \n",
    "    landmarks = predictor(img, detection)\n",
    "    landmarks_list = list(map(lambda p: (p.x, p.y), landmarks.parts()))\n",
    "    \n",
    "    # Centers\n",
    "    y_position = (landmarks_list[51][1] + landmarks_list[33][1])//2\n",
    "    x_position = landmarks_list[51][0]\n",
    "    \n",
    "    # Angle\n",
    "    (xl, yt), (xr, yb) = landmarks_list[48], landmarks_list[54]\n",
    "    xl -= size_offset\n",
    "    xr += size_offset\n",
    "#     angle = math.degrees(math.atan((yb-yt)/(xr-xl)))\n",
    "    angle = math.degrees(math.atan((landmarks_list[2][1]-landmarks_list[14][1])/(landmarks_list[2][0]-landmarks_list[14][0])))\n",
    "    \n",
    "    # Rotate\n",
    "    small_mostacho = imutils.resize(mostacho, width=xr - xl)\n",
    "    small_mostacho = imutils.rotate_bound(small_mostacho, angle)\n",
    "    # Alpha Channel\n",
    "    alpha_s = small_mostacho[:, :, 3] / 255.0\n",
    "    alpha_l = 1.0 - alpha_s\n",
    "    \n",
    "    # Merge\n",
    "    for c in range(3):\n",
    "        left = x_position - small_mostacho.shape[1]//2\n",
    "        right = left + small_mostacho.shape[1]\n",
    "\n",
    "        top = y_position - small_mostacho.shape[0]//2\n",
    "        bottom = top + small_mostacho.shape[0]\n",
    "\n",
    "        alpha_img[top:bottom, left:right, c] = (alpha_s * small_mostacho[:, :, c] + \n",
    "                                                alpha_l * alpha_img[top:bottom, left:right, c])"
   ]
  },
  {
   "cell_type": "code",
   "execution_count": null,
   "metadata": {
    "slideshow": {
     "slide_type": "slide"
    }
   },
   "outputs": [],
   "source": [
    "print(alpha_img.shape)\n",
    "plt.imshow(alpha_img)\n",
    "plt.show()"
   ]
  }
 ],
 "metadata": {
  "kernelspec": {
   "display_name": "Python 3 (ipykernel)",
   "language": "python",
   "name": "python3"
  },
  "language_info": {
   "codemirror_mode": {
    "name": "ipython",
    "version": 3
   },
   "file_extension": ".py",
   "mimetype": "text/x-python",
   "name": "python",
   "nbconvert_exporter": "python",
   "pygments_lexer": "ipython3",
   "version": "3.9.7"
  }
 },
 "nbformat": 4,
 "nbformat_minor": 2
}
